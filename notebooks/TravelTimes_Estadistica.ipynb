{
 "cells": [
  {
   "cell_type": "code",
   "execution_count": 2,
   "id": "junior-income",
   "metadata": {
    "scrolled": true
   },
   "outputs": [
    {
     "ename": "LoadError",
     "evalue": "MethodError: no method matching NamedArray(::Vector{Float64}, ::Tuple{Vector{String}, Vector{String}})\n\u001b[0mClosest candidates are:\n\u001b[0m  NamedArray(::AbstractVector{T}) where T at /Users/ferhernandez/.julia/packages/NamedArrays/kMq4N/src/constructors.jl:73\n\u001b[0m  NamedArray(::AbstractVector{T}, \u001b[91m::AbstractVector{VT}\u001b[39m) where {T, VT} at /Users/ferhernandez/.julia/packages/NamedArrays/kMq4N/src/constructors.jl:73\n\u001b[0m  NamedArray(::AbstractVector{T}, \u001b[91m::AbstractVector{VT}\u001b[39m, \u001b[91m::Any\u001b[39m) where {T, VT} at /Users/ferhernandez/.julia/packages/NamedArrays/kMq4N/src/constructors.jl:73\n\u001b[0m  ...",
     "output_type": "error",
     "traceback": [
      "MethodError: no method matching NamedArray(::Vector{Float64}, ::Tuple{Vector{String}, Vector{String}})\n\u001b[0mClosest candidates are:\n\u001b[0m  NamedArray(::AbstractVector{T}) where T at /Users/ferhernandez/.julia/packages/NamedArrays/kMq4N/src/constructors.jl:73\n\u001b[0m  NamedArray(::AbstractVector{T}, \u001b[91m::AbstractVector{VT}\u001b[39m) where {T, VT} at /Users/ferhernandez/.julia/packages/NamedArrays/kMq4N/src/constructors.jl:73\n\u001b[0m  NamedArray(::AbstractVector{T}, \u001b[91m::AbstractVector{VT}\u001b[39m, \u001b[91m::Any\u001b[39m) where {T, VT} at /Users/ferhernandez/.julia/packages/NamedArrays/kMq4N/src/constructors.jl:73\n\u001b[0m  ...",
      "",
      "Stacktrace:",
      " [1] parse_travel_times(data::Dict{String, Any})",
      "   @ Main ~/Downloads/RC-2021-master/src/travel_times.jl:37",
      " [2] top-level scope",
      "   @ ./timing.jl:210 [inlined]",
      " [3] top-level scope",
      "   @ ./In[2]:0",
      " [4] eval",
      "   @ ./boot.jl:360 [inlined]",
      " [5] include_string(mapexpr::typeof(REPL.softscope), mod::Module, code::String, filename::String)",
      "   @ Base ./loading.jl:1094"
     ]
    }
   ],
   "source": [
    "data_structures = joinpath(\"..\", \"src\", \"data_structures.jl\")\n",
    "include(data_structures)\n",
    "\n",
    "utils = joinpath(\"..\", \"src\", \"utils.jl\")\n",
    "include(utils)\n",
    "\n",
    "route_data_script = joinpath(\"..\", \"src\", \"travel_times.jl\")\n",
    "include(route_data_script);\n",
    "\n",
    "data_json = joinpath(\"..\", \"data\", \"model_apply_inputs\", \"new_travel_times.json\");\n",
    "travel_times_data = read_json(data_json)\n",
    "\n",
    "@time data = parse_travel_times(travel_times_data);"
   ]
  },
  {
   "cell_type": "code",
   "execution_count": 17,
   "id": "desperate-cleaning",
   "metadata": {},
   "outputs": [
    {
     "data": {
      "text/plain": [
       "2×2 Named Matrix{Int64}\n",
       "A ╲ B │                  c  UndefInitializer()\n",
       "──────┼───────────────────────────────────────\n",
       "a     │                  1                   3\n",
       "b     │                  2                   4"
      ]
     },
     "execution_count": 17,
     "metadata": {},
     "output_type": "execute_result"
    }
   ],
   "source": [
    "using NamedArrays\n",
    "n = NamedArray([1 3; 2 4], ( [\"a\", \"b\"], [\"c\", undef] ))\n"
   ]
  },
  {
   "cell_type": "code",
   "execution_count": 14,
   "id": "photographic-antenna",
   "metadata": {},
   "outputs": [
    {
     "data": {
      "text/plain": [
       "2.97079410735e-313"
      ]
     },
     "execution_count": 14,
     "metadata": {},
     "output_type": "execute_result"
    }
   ],
   "source": [
    "m = Array{Float64}(undef, 1, 2)\n",
    "m[1][1]"
   ]
  }
 ],
 "metadata": {
  "kernelspec": {
   "display_name": "Julia 1.6.0",
   "language": "julia",
   "name": "julia-1.6"
  },
  "language_info": {
   "file_extension": ".jl",
   "mimetype": "application/julia",
   "name": "julia",
   "version": "1.6.0"
  }
 },
 "nbformat": 4,
 "nbformat_minor": 5
}
