{
 "cells": [
  {
   "cell_type": "code",
   "execution_count": 1,
   "metadata": {},
   "outputs": [],
   "source": [
    "include(joinpath(\"..\", \"src\", \"data_structures.jl\"))\n",
    "include(joinpath(\"..\", \"src\", \"utils.jl\"))\n",
    "include(joinpath(\"..\", \"src\", \"travel_times.jl\"))\n",
    "include(joinpath(\"..\", \"src\", \"sequence.jl\"))\n",
    "\n",
    "data_json = joinpath(\"..\", \"data\", \"model_apply_inputs\", \"new_actual_sequences.json\");\n",
    "actual_sequences_data = read_json(data_json);"
   ]
  },
  {
   "cell_type": "code",
   "execution_count": 4,
   "metadata": {},
   "outputs": [
    {
     "name": "stdout",
     "output_type": "stream",
     "text": [
      "  0.204782 seconds (83.97 k allocations: 4.812 MiB, 98.61% compilation time)\n"
     ]
    }
   ],
   "source": [
    "@time data = parse_sequence(actual_sequences_data);"
   ]
  },
  {
   "cell_type": "code",
   "execution_count": 5,
   "metadata": {},
   "outputs": [
    {
     "name": "stdout",
     "output_type": "stream",
     "text": [
      "name(S1) = \"bcc07fea-86d2-41e4-9a58-cfc78956dcc7\"\n"
     ]
    }
   ],
   "source": [
    "S1 = data[1]\n",
    "\n",
    "@show name(S1)\n",
    "\n",
    "[name(s) for s in stops(S1)];"
   ]
  },
  {
   "cell_type": "markdown",
   "metadata": {},
   "source": [
    "## Write JSON"
   ]
  },
  {
   "cell_type": "code",
   "execution_count": 6,
   "metadata": {},
   "outputs": [],
   "source": [
    "using JSON"
   ]
  },
  {
   "cell_type": "markdown",
   "metadata": {},
   "source": [
    "Escribir una funcion que recibe un vector de `Sequence` y genera el archivo `proposed_sequences.json` como en el siguiente ejemplo:"
   ]
  },
  {
   "cell_type": "markdown",
   "metadata": {},
   "source": [
    "```julia\n",
    "{\n",
    "  \"RouteID_1a4903de-1a85-4bca-921a-f746c68fbf7a\": {\n",
    "    \"proposed\": {\n",
    "      \"RY\": 0,\n",
    "      \"QH\": 1,\n",
    "      \"PY\": 2,\n",
    "      \"NS\": 3\n",
    "    },\n",
    "  },\n",
    "  \"RouteID_1a4e2edf-3fde-409f-8bf6-f01ff98d5afa\": {\n",
    "    \"proposed\": {\n",
    "      \"SF\": 0,\n",
    "      \"PT\": 1,\n",
    "      \"LG\": 2,\n",
    "      \"GU\": 3\n",
    "    }\n",
    "  }\n",
    "}\n",
    "    ```"
   ]
  },
  {
   "cell_type": "code",
   "execution_count": 8,
   "metadata": {},
   "outputs": [
    {
     "data": {
      "text/plain": [
       "Dict{String, Any} with 13 entries:\n",
       "  \"RouteID_bcc07fea-86d2-4… => Dict(\"proposed\"=>Dict(\"LX\"=>10, \"JA\"=>29, \"YC\"=>…\n",
       "  \"RouteID_5486294a-503f-4… => Dict(\"proposed\"=>Dict(\"NI\"=>1, \"KA\"=>110, \"VZ\"=>…\n",
       "  \"RouteID_9475872b-287f-4… => Dict(\"proposed\"=>Dict(\"OP\"=>4, \"TF\"=>146, \"YQ\"=>…\n",
       "  \"RouteID_3f166f0e-fd2e-4… => Dict(\"proposed\"=>Dict(\"OM\"=>57, \"TF\"=>137, \"DO\"=…\n",
       "  \"RouteID_e6687a05-2453-4… => Dict(\"proposed\"=>Dict(\"DC\"=>5, \"PO\"=>71, \"EC\"=>3…\n",
       "  \"RouteID_7f5d87f0-c39f-4… => Dict(\"proposed\"=>Dict(\"LP\"=>177, \"BV\"=>163, \"OM\"…\n",
       "  \"RouteID_15baae2d-bf07-4… => Dict(\"proposed\"=>Dict(\"BC\"=>22, \"BV\"=>112, \"HQ\"=…\n",
       "  \"RouteID_2b8df66d-fcd4-4… => Dict(\"proposed\"=>Dict(\"WK\"=>113, \"LP\"=>41, \"NX\"=…\n",
       "  \"RouteID_693060a6-88bb-4… => Dict(\"proposed\"=>Dict(\"EA\"=>104, \"TF\"=>154, \"KV\"…\n",
       "  \"RouteID_a8f0009d-e50a-4… => Dict(\"proposed\"=>Dict(\"PO\"=>87, \"YC\"=>134, \"HT\"=…\n",
       "  \"RouteID_d1a8c3dd-fa67-4… => Dict(\"proposed\"=>Dict(\"KA\"=>48, \"LX\"=>114, \"WK\"=…\n",
       "  \"RouteID_f3261fad-5f97-4… => Dict(\"proposed\"=>Dict(\"XB\"=>125, \"CC\"=>17, \"JH\"=…\n",
       "  \"RouteID_fffd257c-3041-4… => Dict(\"proposed\"=>Dict(\"WB\"=>15, \"DP\"=>87, \"EW\"=>…"
      ]
     },
     "execution_count": 8,
     "metadata": {},
     "output_type": "execute_result"
    }
   ],
   "source": [
    "sequence_to_dict(data)"
   ]
  },
  {
   "cell_type": "markdown",
   "metadata": {},
   "source": [
    "# Prueba de la conversion "
   ]
  },
  {
   "cell_type": "code",
   "execution_count": 9,
   "metadata": {},
   "outputs": [],
   "source": [
    "write_json_sequence(data)"
   ]
  },
  {
   "cell_type": "code",
   "execution_count": 12,
   "metadata": {},
   "outputs": [],
   "source": [
    "data2 = parse_sequence(read_json(\"proposed_sequences.json\"), \"proposed\");"
   ]
  },
  {
   "cell_type": "code",
   "execution_count": 17,
   "metadata": {},
   "outputs": [
    {
     "data": {
      "text/plain": [
       "true"
      ]
     },
     "execution_count": 17,
     "metadata": {},
     "output_type": "execute_result"
    }
   ],
   "source": [
    "# chequear que todos los nombres coinciden\n",
    "all(data[i].hex_id == data2[i].hex_id for i in 1:13)"
   ]
  },
  {
   "cell_type": "code",
   "execution_count": 21,
   "metadata": {},
   "outputs": [
    {
     "data": {
      "text/plain": [
       "\"LZ\""
      ]
     },
     "execution_count": 21,
     "metadata": {},
     "output_type": "execute_result"
    }
   ],
   "source": [
    "name(data[1].stops[2])"
   ]
  },
  {
   "cell_type": "code",
   "execution_count": 23,
   "metadata": {},
   "outputs": [],
   "source": [
    "# check that all names are the same, in the same order\n",
    "for i in 1:13\n",
    "    D1 = data[i].stops\n",
    "    D2 = data2[i].stops\n",
    "    for j in 1:length(D1)\n",
    "        @assert name(D1[j]) == name(D2[j])\n",
    "    end\n",
    "end"
   ]
  }
 ],
 "metadata": {
  "@webio": {
   "lastCommId": null,
   "lastKernelId": null
  },
  "kernelspec": {
   "display_name": "Julia 1.6.0",
   "language": "julia",
   "name": "julia-1.6"
  },
  "language_info": {
   "file_extension": ".jl",
   "mimetype": "application/julia",
   "name": "julia",
   "version": "1.6.0"
  }
 },
 "nbformat": 4,
 "nbformat_minor": 5
}
