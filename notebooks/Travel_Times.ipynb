{
 "cells": [
  {
   "cell_type": "markdown",
   "metadata": {},
   "source": [
    "## Loading"
   ]
  },
  {
   "cell_type": "code",
   "execution_count": 1,
   "metadata": {},
   "outputs": [
    {
     "ename": "LoadError",
     "evalue": "ArgumentError: Package RouteSequencing not found in current path:\n- Run `import Pkg; Pkg.add(\"RouteSequencing\")` to install the RouteSequencing package.\n",
     "output_type": "error",
     "traceback": [
      "ArgumentError: Package RouteSequencing not found in current path:\n- Run `import Pkg; Pkg.add(\"RouteSequencing\")` to install the RouteSequencing package.\n",
      "",
      "Stacktrace:",
      " [1] require(into::Module, mod::Symbol)",
      "   @ Base ./loading.jl:871",
      " [2] eval",
      "   @ ./boot.jl:360 [inlined]",
      " [3] include_string(mapexpr::typeof(REPL.softscope), mod::Module, code::String, filename::String)",
      "   @ Base ./loading.jl:1094"
     ]
    }
   ],
   "source": [
    "using RouteSequencing"
   ]
  },
  {
   "cell_type": "code",
   "execution_count": 4,
   "metadata": {},
   "outputs": [
    {
     "name": "stdout",
     "output_type": "stream",
     "text": [
      "  0.342730 seconds (508.32 k allocations: 19.182 MiB, 51.39% compilation time)\n"
     ]
    }
   ],
   "source": [
    "#=\n",
    "data_structures = joinpath(\"..\", \"src\", \"data_structures.jl\")\n",
    "include(data_structures)\n",
    "\n",
    "utils = joinpath(\"..\", \"src\", \"utils.jl\")\n",
    "include(utils)\n",
    "\n",
    "travel_times_json = joinpath(\"..\", \"data\", \"model_apply_inputs\", \"new_travel_times.json\");\n",
    "travel_times_data = read_json(travel_times_json);\n",
    "\n",
    "travel_times_script = joinpath(\"..\", \"src\", \"travel_times.jl\")\n",
    "include(travel_times_script);\n",
    "@time data_times = parse_travel_times(travel_times_data);\n",
    "="
   ]
  },
  {
   "cell_type": "code",
   "execution_count": 5,
   "metadata": {},
   "outputs": [
    {
     "name": "stdout",
     "output_type": "stream",
     "text": [
      "  0.244263 seconds (268.58 k allocations: 15.196 MiB, 31.45% gc time, 98.69% compilation time)\n"
     ]
    }
   ],
   "source": [
    "route_data_script = joinpath(\"..\", \"src\", \"route_data.jl\")\n",
    "include(route_data_script);\n",
    "\n",
    "include(joinpath(\"..\", \"src\", \"sequencing_algorithms.jl\"));\n",
    "\n",
    "data_json = joinpath(\"..\", \"data\", \"model_apply_inputs\", \"new_route_data.json\");\n",
    "route_data = read_json(data_json)\n",
    "\n",
    "@time data_route = parse_route_data(route_data);"
   ]
  },
  {
   "cell_type": "markdown",
   "metadata": {},
   "source": [
    "## Analysis"
   ]
  },
  {
   "cell_type": "code",
   "execution_count": 6,
   "metadata": {},
   "outputs": [
    {
     "data": {
      "text/plain": [
       "140×140 Named Matrix{Float64}\n",
       "A ╲ B │     JA      LX      YC      CC  …      JV      BW      IF      YX\n",
       "──────┼──────────────────────────────────────────────────────────────────\n",
       "JA    │    0.0   385.8   442.2   400.5  …   661.1   638.4   355.0   400.4\n",
       "LX    │  390.0     0.0   193.6   418.5      741.6   756.8   597.7    14.5\n",
       "YC    │  401.2   183.7     0.0   429.7      675.0   759.8   556.6   169.1\n",
       "CC    │  305.0   416.1   432.4     0.0      763.2   693.9   361.8   430.7\n",
       "SA    │  448.3   693.0   666.0   471.0      440.4   373.2   142.8   709.7\n",
       "OP    │  155.7   227.3   243.6   237.4      669.5   646.8   363.4   241.9\n",
       "UQ    │  375.2   537.8   567.4   501.1      440.5   371.2   108.7   552.4\n",
       "BB    │  545.1   707.7   765.4   655.7      232.4   163.1   278.6   722.3\n",
       "JB    │  203.8   299.3   315.6   309.4      704.8   694.9   411.5   313.9\n",
       "VQ    │   93.3   375.5   447.4   369.4      666.3   643.6   347.7   390.1\n",
       "PP    │  798.4   737.5   720.5   819.1       34.4   273.7   531.9   752.1\n",
       "VU    │  496.8   659.4   682.2   558.6      329.7   260.4   230.3   674.0\n",
       "⋮            ⋮       ⋮       ⋮       ⋮  ⋱       ⋮       ⋮       ⋮       ⋮\n",
       "QQ    │  395.9   555.9   585.5   333.4      498.6   429.3    72.4   570.5\n",
       "SX    │  479.0   280.2   388.8   507.5      842.9   827.8   628.8   265.6\n",
       "ZK    │  583.7   829.2   769.1   660.4      290.4   221.1   317.2   843.8\n",
       "LO    │ 2168.1  2057.9  2011.0  2303.3     1953.2  2034.3  1987.8  2043.3\n",
       "ZQ    │  415.4   497.3   513.6   510.5      431.5   416.4   295.8   511.9\n",
       "GS    │  397.1   557.1   586.7   311.7      510.8   441.5   109.4   571.7\n",
       "WA    │  280.2   292.9   309.2   402.9      637.0   621.9   487.9   307.5\n",
       "CT    │  405.4   654.2   625.2   428.1      401.7   332.4    99.9   668.9\n",
       "JV    │  787.2   726.3   709.3   805.1        0.0   259.7   520.7   740.9\n",
       "BW    │  599.0   714.5   769.2   659.7      236.2     0.0   332.5   729.1\n",
       "IF    │  377.0   539.6   569.2   413.1      483.2   413.9     0.0   554.2\n",
       "YX    │  404.6    14.5   208.2   433.1  …   756.2   792.4   593.4     0.0"
      ]
     },
     "execution_count": 6,
     "metadata": {},
     "output_type": "execute_result"
    }
   ],
   "source": [
    "R1 = data_times[1]\n",
    "\n",
    "M1 = R1.travel_times\n",
    "\n",
    "M1"
   ]
  },
  {
   "cell_type": "code",
   "execution_count": 7,
   "metadata": {},
   "outputs": [
    {
     "data": {
      "text/plain": [
       "\"bcc07fea-86d2-41e4-9a58-cfc78956dcc7\""
      ]
     },
     "execution_count": 7,
     "metadata": {},
     "output_type": "execute_result"
    }
   ],
   "source": [
    "name(data_times[1])"
   ]
  },
  {
   "cell_type": "code",
   "execution_count": 8,
   "metadata": {},
   "outputs": [
    {
     "data": {
      "text/plain": [
       "\"bcc07fea-86d2-41e4-9a58-cfc78956dcc7\""
      ]
     },
     "execution_count": 8,
     "metadata": {},
     "output_type": "execute_result"
    }
   ],
   "source": [
    "name(data_route[1])"
   ]
  },
  {
   "cell_type": "code",
   "execution_count": 9,
   "metadata": {},
   "outputs": [
    {
     "data": {
      "text/plain": [
       "Stop(\"LO\", 33.965477, -117.653303, false, Zone('0', \"\"))"
      ]
     },
     "execution_count": 9,
     "metadata": {},
     "output_type": "execute_result"
    }
   ],
   "source": [
    "get_station(data_route[1])"
   ]
  },
  {
   "cell_type": "code",
   "execution_count": 10,
   "metadata": {},
   "outputs": [
    {
     "data": {
      "text/plain": [
       "0.0"
      ]
     },
     "execution_count": 10,
     "metadata": {},
     "output_type": "execute_result"
    }
   ],
   "source": [
    "s = data_times[1].travel_times[\"LO\", :] # estacion de la primer ruta\n",
    "\n",
    "minimum(s)"
   ]
  },
  {
   "cell_type": "markdown",
   "metadata": {},
   "source": [
    "## Camino mas corto"
   ]
  },
  {
   "cell_type": "markdown",
   "metadata": {},
   "source": [
    "Pseudo-codigo:\n",
    "\n",
    "1. Dada una ruta, encuentro la estacion y me muevo hacia la parada que esta mas cerca en el tiempo de viaje.\n",
    "\n",
    "2. Me muevo desde la parada actual hasta la siguiente que le toma menor tiempo y que no fue recorrida.\n",
    "\n",
    "3. Repetir 2 hasta terminar de recorrer todas las paradas."
   ]
  },
  {
   "cell_type": "markdown",
   "metadata": {},
   "source": [
    "Comentarios:\n",
    "\n",
    "- TODO solo obtener el segundo mas chico\n",
    "- el primero es la propia parada (0)"
   ]
  },
  {
   "cell_type": "code",
   "execution_count": 11,
   "metadata": {},
   "outputs": [
    {
     "data": {
      "text/plain": [
       "TravelTimes{NamedMatrix{Float64, Matrix{Float64}, Tuple{OrderedCollections.OrderedDict{String, Int64}, OrderedCollections.OrderedDict{String, Int64}}}}"
      ]
     },
     "execution_count": 11,
     "metadata": {},
     "output_type": "execute_result"
    }
   ],
   "source": [
    "typeof(data_times[1])"
   ]
  },
  {
   "cell_type": "code",
   "execution_count": 17,
   "metadata": {},
   "outputs": [
    {
     "name": "stdout",
     "output_type": "stream",
     "text": [
      "  0.024902 seconds (30.20 k allocations: 5.358 MiB)\n"
     ]
    }
   ],
   "source": [
    "R = data_route[1]\n",
    "T = data_times[1]\n",
    "@assert name(R) == name(T)\n",
    "\n",
    "@time out = solve_minimum_times(R, T);"
   ]
  },
  {
   "cell_type": "code",
   "execution_count": 15,
   "metadata": {},
   "outputs": [
    {
     "data": {
      "text/plain": [
       "10-element Vector{String}:\n",
       " \"LO\"\n",
       " \"GE\"\n",
       " \"ZQ\"\n",
       " \"VR\"\n",
       " \"DK\"\n",
       " \"OA\"\n",
       " \"UU\"\n",
       " \"DW\"\n",
       " \"BO\"\n",
       " \"QL\""
      ]
     },
     "execution_count": 15,
     "metadata": {},
     "output_type": "execute_result"
    }
   ],
   "source": [
    "out[1:10]"
   ]
  },
  {
   "cell_type": "code",
   "execution_count": 16,
   "metadata": {},
   "outputs": [
    {
     "data": {
      "text/plain": [
       "11-element Vector{String}:\n",
       " \"HJ\"\n",
       " \"SX\"\n",
       " \"WZ\"\n",
       " \"YC\"\n",
       " \"ZT\"\n",
       " \"LZ\"\n",
       " \"HS\"\n",
       " \"ZI\"\n",
       " \"CC\"\n",
       " \"VL\"\n",
       " \"BJ\""
      ]
     },
     "execution_count": 16,
     "metadata": {},
     "output_type": "execute_result"
    }
   ],
   "source": [
    "out[end-10:end]"
   ]
  },
  {
   "cell_type": "markdown",
   "metadata": {},
   "source": [
    "Demora unos 20ms por ruta."
   ]
  },
  {
   "cell_type": "markdown",
   "metadata": {},
   "source": [
    "## Evaluacion"
   ]
  },
  {
   "cell_type": "code",
   "execution_count": null,
   "metadata": {},
   "outputs": [],
   "source": [
    "name(R)"
   ]
  },
  {
   "cell_type": "code",
   "execution_count": null,
   "metadata": {},
   "outputs": [],
   "source": [
    "out[1:10]"
   ]
  },
  {
   "cell_type": "code",
   "execution_count": 18,
   "metadata": {},
   "outputs": [
    {
     "data": {
      "text/plain": [
       "1-element Vector{Int64}:\n",
       " 112"
      ]
     },
     "execution_count": 18,
     "metadata": {},
     "output_type": "execute_result"
    }
   ],
   "source": [
    "findall(x -> x == \"UJ\", out)"
   ]
  },
  {
   "cell_type": "code",
   "execution_count": 19,
   "metadata": {},
   "outputs": [
    {
     "data": {
      "text/plain": [
       "6-element Vector{String}:\n",
       " \"NC\"\n",
       " \"MX\"\n",
       " \"UJ\"\n",
       " \"FC\"\n",
       " \"UQ\"\n",
       " \"LK\""
      ]
     },
     "execution_count": 19,
     "metadata": {},
     "output_type": "execute_result"
    }
   ],
   "source": [
    "out[110:115]"
   ]
  },
  {
   "cell_type": "markdown",
   "metadata": {},
   "source": [
    "Comparacion con la secuencia actual:"
   ]
  },
  {
   "cell_type": "code",
   "execution_count": null,
   "metadata": {},
   "outputs": [],
   "source": [
    "UJ, UQ, FC"
   ]
  },
  {
   "cell_type": "markdown",
   "metadata": {},
   "source": [
    "```\n",
    "RouteID_bcc07fea-86d2-41e4-9a58-cfc78956dcc7\": {\"actual\": {\"AE\": 114, \"AJ\": 57, \"AL\": 95, \"AS\": 30, \"AV\": 88, \"AX\": 90, \"BA\": 61, \"BB\": 130, \"BH\": 75, \"BJ\": 50, \"BO\": 70, \"BW\": 129, \"CB\": 108, \"CC\": 51, \"CH\": 58, \"CK\": 27, \"CT\": 89, \"CW\": 121, \"DK\": 65, \"DT\": 136, \"DU\": 63, \"DW\": 67, \"EF\": 78, \"EG\": 92, \"EK\": 81, \"EN\": 112, \"EO\": 118, \"EW\": 84, \"EX\": 25, \"EZ\": 85, \"FA\": 117, \"FC\": 103, \"FD\": 44, \"FF\": 18, \"FM\": 133, \"FX\": 94, \"GA\": 12, \"GB\": 119, \"GC\": 59, \"GE\": 109, \"GG\": 123, \"GL\": 41, \"GM\": 21, \"GO\": 47, \"GS\": 82, \"GT\": 56, \"GY\": 105, \"HJ\": 13, \"HS\": 6, \"IF\": 77, \"II\": 74, \"JA\": 29, \"JB\": 34, \"JC\": 135, \"JK\": 24, \"JV\": 137, \"KK\": 31, \"KL\": 46, \"KM\": 33, \"KO\": 122, \"KR\": 124, \"KW\": 80, \"KY\": 45, \"LD\": 128, \"LF\": 55, \"LK\": 98, \"LO\": 0, \"LX\": 10, \"LZ\": 1, \"MB\": 93, \"MC\": 131, \"ME\": 54, \"MH\": 115, \"MK\": 60, \"MU\": 23, \"MX\": 71, \"NC\": 72, \"NE\": 86, \"NL\": 39, \"NQ\": 134, \"NV\": 99, \"NW\": 62, \"NZ\": 120, \"OA\": 68, \"OD\": 36, \"OG\": 19, \"OL\": 107, \"OO\": 100, \"OP\": 42, \"PP\": 138, \"PX\": 17, \"QG\": 32, \"QH\": 127, \"QL\": 69, \"QQ\": 83, \"RL\": 22, \"RM\": 26, \"RZ\": 35, \"SA\": 91, \"SC\": 48, \"SF\": 110, \"SU\": 106, \"SX\": 14, \"TD\": 101, \"TE\": 28, \"TF\": 111, \"TL\": 53, \"TR\": 8, \"TT\": 7, \"TZ\": 73, \"UF\": 38, \"UJ\": 104, \"UQ\": 102, \"UU\": 66, \"VL\": 49, \"VQ\": 40, \"VR\": 64, \"VU\": 113, \"VW\": 16, \"WA\": 20, \"WD\": 139, \"WF\": 126, \"WJ\": 132, \"WM\": 52, \"WZ\": 5, \"XM\": 96, \"XO\": 15, \"XU\": 79, \"YC\": 4, \"YE\": 87, \"YH\": 76, \"YX\": 11, \"ZB\": 37, \"ZI\": 3, \"ZJ\": 116, \"ZK\": 125, \"ZQ\": 97, \"ZT\": 2, \"ZX\": 9, \"ZY\": 43}}\n",
    "```"
   ]
  },
  {
   "cell_type": "code",
   "execution_count": null,
   "metadata": {},
   "outputs": [],
   "source": [
    "findall(x -> x == \"LZ\", out)"
   ]
  },
  {
   "cell_type": "markdown",
   "metadata": {},
   "source": [
    "primeros: \"LZ\", \"ZT\", \"ZB\""
   ]
  },
  {
   "cell_type": "markdown",
   "metadata": {},
   "source": [
    "## Ideas para seguir"
   ]
  },
  {
   "cell_type": "markdown",
   "metadata": {},
   "source": [
    "- [ ] Evaluar el score con los scripts de Python en https://github.com/MIT-CAVE/rc-cli/blob/main/scoring/score.py"
   ]
  },
  {
   "cell_type": "markdown",
   "metadata": {},
   "source": [
    "- [ ] Leer `new_actual_sequences.json` y cargarlo en un NamedArray."
   ]
  },
  {
   "cell_type": "markdown",
   "metadata": {},
   "source": [
    "- [ ] Cambiar el algoritmo para que reciba un stop de partida y calcule a partir de ahi."
   ]
  },
  {
   "cell_type": "markdown",
   "metadata": {},
   "source": [
    "- [ ] Visualizar la secuencia propuesta contra la secuencia actual en Google Maps, Google Earth, u otro programa."
   ]
  },
  {
   "cell_type": "markdown",
   "metadata": {},
   "source": [
    "## Scores"
   ]
  },
  {
   "cell_type": "code",
   "execution_count": 1,
   "metadata": {},
   "outputs": [
    {
     "data": {
      "text/plain": [
       "Vector{Float64} (alias for Array{Float64, 1})"
      ]
     },
     "execution_count": 1,
     "metadata": {},
     "output_type": "execute_result"
    }
   ],
   "source": [
    "x = [1.0, 22.0]\n",
    "\n",
    "typeof(x)"
   ]
  }
 ],
 "metadata": {
  "@webio": {
   "lastCommId": null,
   "lastKernelId": null
  },
  "kernelspec": {
   "display_name": "Julia 1.6.0",
   "language": "julia",
   "name": "julia-1.6"
  },
  "language_info": {
   "file_extension": ".jl",
   "mimetype": "application/julia",
   "name": "julia",
   "version": "1.6.0"
  }
 },
 "nbformat": 4,
 "nbformat_minor": 2
}
